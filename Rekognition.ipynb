{
 "cells": [
  {
   "cell_type": "code",
   "execution_count": null,
   "metadata": {},
   "outputs": [],
   "source": [
    "import boto3\n",
    "\n",
    "client = boto3.client('rekognition')"
   ]
  },
  {
   "cell_type": "code",
   "execution_count": null,
   "metadata": {},
   "outputs": [],
   "source": [
    "import matplotlib.pyplot as plt\n",
    "import matplotlib.image as mpimg"
   ]
  },
  {
   "cell_type": "code",
   "execution_count": null,
   "metadata": {},
   "outputs": [],
   "source": [
    "def compare_faces(source_img, target_img, threshold=0.5):\n",
    "    response = client.compare_faces(\n",
    "        SourceImage={\n",
    "            'Bytes' : open(source_img, 'rb').read()\n",
    "        },\n",
    "        TargetImage={\n",
    "            'Bytes' : open(target_img, 'rb').read()\n",
    "        },\n",
    "        SimilarityThreshold=threshold,\n",
    "        QualityFilter='AUTO'\n",
    "    )\n",
    "    img=mpimg.imread(source_img)\n",
    "    imgplot = plt.imshow(img)\n",
    "    plt.show()\n",
    "    img=mpimg.imread(target_img)\n",
    "    imgplot = plt.imshow(img)\n",
    "    plt.show()\n",
    "    \n",
    "    return response"
   ]
  },
  {
   "cell_type": "code",
   "execution_count": null,
   "metadata": {},
   "outputs": [],
   "source": [
    "compare_faces('face1.jpeg', 'face2.jpeg')"
   ]
  },
  {
   "cell_type": "code",
   "execution_count": null,
   "metadata": {},
   "outputs": [],
   "source": [
    "import numpy as np"
   ]
  },
  {
   "cell_type": "code",
   "execution_count": null,
   "metadata": {},
   "outputs": [],
   "source": [
    "def detect_faces(image):\n",
    "    \n",
    "    \n",
    "    img=mpimg.imread(image)\n",
    "    imgplot = plt.imshow(img)\n",
    "    plt.show()\n",
    "    \n",
    "    response = client.detect_faces(\n",
    "        Image={\n",
    "            'Bytes' : open(image, 'rb').read()\n",
    "        },\n",
    "        Attributes=[\n",
    "            'ALL',\n",
    "        ]\n",
    "    )\n",
    "    \n",
    "    return response"
   ]
  },
  {
   "cell_type": "code",
   "execution_count": null,
   "metadata": {},
   "outputs": [],
   "source": [
    "detect_faces('face1.jpeg')"
   ]
  },
  {
   "cell_type": "code",
   "execution_count": null,
   "metadata": {},
   "outputs": [],
   "source": [
    "def detect_labels(image, minConfidence=0.8):\n",
    "    \n",
    "    img=mpimg.imread(image)\n",
    "    imgplot = plt.imshow(img)\n",
    "    plt.show()\n",
    "    \n",
    "    response = client.detect_labels(\n",
    "        Image={\n",
    "            'Bytes': open(image, 'rb').read()\n",
    "            \n",
    "        },\n",
    "        MaxLabels=123,\n",
    "        MinConfidence=minConfidence\n",
    "    )\n",
    "    \n",
    "    \n",
    "    return response"
   ]
  },
  {
   "cell_type": "code",
   "execution_count": null,
   "metadata": {},
   "outputs": [],
   "source": [
    "detect_labels('face1.jpeg')"
   ]
  },
  {
   "cell_type": "code",
   "execution_count": null,
   "metadata": {},
   "outputs": [],
   "source": [
    "def detect_text(image):\n",
    "    \n",
    "    img=mpimg.imread(image)\n",
    "    imgplot = plt.imshow(img)\n",
    "    plt.show()\n",
    "    \n",
    "    response = client.detect_text(\n",
    "        Image={\n",
    "            'Bytes': open(image, 'rb').read()\n",
    "            \n",
    "        },\n",
    "        Filters={\n",
    "            'WordFilter': {\n",
    "                'MinConfidence': 0.6,\n",
    "            }\n",
    "        }\n",
    "    )\n",
    "    \n",
    "    \n",
    "    return response"
   ]
  },
  {
   "cell_type": "code",
   "execution_count": null,
   "metadata": {},
   "outputs": [],
   "source": [
    "detect_text('text.jpeg')"
   ]
  },
  {
   "cell_type": "code",
   "execution_count": null,
   "metadata": {},
   "outputs": [],
   "source": []
  }
 ],
 "metadata": {
  "kernelspec": {
   "display_name": "conda_tensorflow_p36",
   "language": "python",
   "name": "conda_tensorflow_p36"
  },
  "language_info": {
   "codemirror_mode": {
    "name": "ipython",
    "version": 3
   },
   "file_extension": ".py",
   "mimetype": "text/x-python",
   "name": "python",
   "nbconvert_exporter": "python",
   "pygments_lexer": "ipython3",
   "version": "3.6.10"
  }
 },
 "nbformat": 4,
 "nbformat_minor": 4
}
